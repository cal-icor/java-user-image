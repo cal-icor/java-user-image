{
 "cells": [
  {
   "cell_type": "code",
   "execution_count": 1,
   "id": "959670d6-e099-43b7-9774-bf88f1ca6f2b",
   "metadata": {},
   "outputs": [],
   "source": [
    "import numpy as np"
   ]
  },
  {
   "cell_type": "code",
   "execution_count": 2,
   "id": "92bcc800-8bb0-4317-86e6-efc146cfdf85",
   "metadata": {},
   "outputs": [],
   "source": [
    "import pandas as pd"
   ]
  },
  {
   "cell_type": "code",
   "execution_count": 3,
   "id": "ec623531-8df9-49f9-94b5-d0758f435b27",
   "metadata": {},
   "outputs": [],
   "source": [
    "import matplotlib.pyplot as plt"
   ]
  },
  {
   "cell_type": "code",
   "execution_count": 4,
   "id": "022f8688-d97b-4bc1-bd0e-5b6c1413f5d5",
   "metadata": {},
   "outputs": [],
   "source": [
    "import plotly"
   ]
  },
  {
   "cell_type": "code",
   "execution_count": 5,
   "id": "e32e5a7e-f6cf-4d8d-9360-75fc6f2d0171",
   "metadata": {},
   "outputs": [],
   "source": [
    "import os\n",
    "from nbconvert import HTMLExporter\n",
    "from nbconvert.preprocessors import ExecutePreprocessor\n",
    "from nbconvert import PDFExporter\n",
    "import subprocess"
   ]
  },
  {
   "cell_type": "code",
   "execution_count": 6,
   "id": "9bb711ea-3fcc-4b29-a1e1-cd0b3490ef3f",
   "metadata": {},
   "outputs": [],
   "source": [
    "notebooks_dir = \".\""
   ]
  },
  {
   "cell_type": "code",
   "execution_count": 7,
   "id": "2019e46c-e8f4-428a-bc38-b00ea17751ea",
   "metadata": {},
   "outputs": [
    {
     "name": "stdout",
     "output_type": "stream",
     "text": [
      "Successfully converted notebook to PDF\n"
     ]
    }
   ],
   "source": [
    "\n",
    "notebook_path = os.path.join(notebooks_dir, \"all_hub_basic_notebook.ipynb\")\n",
    "\n",
    "# Set the output PDF file path\n",
    "pdf_path = os.path.splitext(notebook_path)[0] + \".pdf\"\n",
    "\n",
    "try:\n",
    "    # Use subprocess to call nbconvert to generate the PDF\n",
    "    result = subprocess.run(\n",
    "        [\"jupyter\", \"nbconvert\", \"--to\", \"webpdf\", notebook_path],\n",
    "        capture_output=True,\n",
    "        text=True,\n",
    "    )\n",
    "\n",
    "    # Check if the conversion was successful\n",
    "    if result.returncode != 0:\n",
    "        raise Exception(f\"PDF conversion failed for notebook. Error: {result.stderr}\")\n",
    "\n",
    "    # Verify that the PDF file exists\n",
    "    if not os.path.exists(pdf_path):\n",
    "        raise FileNotFoundError(f\"PDF conversion did not create the expected file for notebook\")\n",
    "\n",
    "    print(f\"Successfully converted notebook to PDF\")\n",
    "\n",
    "except Exception as e:\n",
    "    print(f\"Error: {str(e)}\")\n",
    "    "
   ]
  },
  {
   "cell_type": "code",
   "execution_count": null,
   "id": "04101b64-909e-4758-be2b-61b2603c4fb1",
   "metadata": {},
   "outputs": [],
   "source": []
  },
  {
   "cell_type": "code",
   "execution_count": null,
   "id": "d2e13707-a53b-4860-998e-c7d584d6127b",
   "metadata": {},
   "outputs": [],
   "source": []
  }
 ],
 "metadata": {
  "kernelspec": {
   "display_name": "Python 3 (ipykernel)",
   "language": "python",
   "name": "python3"
  },
  "language_info": {
   "codemirror_mode": {
    "name": "ipython",
    "version": 3
   },
   "file_extension": ".py",
   "mimetype": "text/x-python",
   "name": "python",
   "nbconvert_exporter": "python",
   "pygments_lexer": "ipython3",
   "version": "3.11.11"
  }
 },
 "nbformat": 4,
 "nbformat_minor": 5
}
